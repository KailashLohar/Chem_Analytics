{
 "cells": [
  {
   "cell_type": "code",
   "execution_count": 6,
   "id": "26a7ce83-2728-42a0-aa08-c93a2e809ff5",
   "metadata": {},
   "outputs": [
    {
     "data": {
      "text/html": [
       "<div>\n",
       "<style scoped>\n",
       "    .dataframe tbody tr th:only-of-type {\n",
       "        vertical-align: middle;\n",
       "    }\n",
       "\n",
       "    .dataframe tbody tr th {\n",
       "        vertical-align: top;\n",
       "    }\n",
       "\n",
       "    .dataframe thead th {\n",
       "        text-align: right;\n",
       "    }\n",
       "</style>\n",
       "<table border=\"1\" class=\"dataframe\">\n",
       "  <thead>\n",
       "    <tr style=\"text-align: right;\">\n",
       "      <th></th>\n",
       "      <th>Name</th>\n",
       "      <th>SMILES</th>\n",
       "      <th>TAG</th>\n",
       "    </tr>\n",
       "  </thead>\n",
       "  <tbody>\n",
       "    <tr>\n",
       "      <th>0</th>\n",
       "      <td>curia1063</td>\n",
       "      <td>Cc1ccc(NC(=O)N2CCC3(CC2)c2c(-c4cn(nc34)C3CCOCC...</td>\n",
       "      <td>common_04</td>\n",
       "    </tr>\n",
       "    <tr>\n",
       "      <th>1</th>\n",
       "      <td>curia0735</td>\n",
       "      <td>Fc1cc(ccc1)C(=O)N1CCN(CC1)c1noc(n1)c1ccccc1</td>\n",
       "      <td>common_04</td>\n",
       "    </tr>\n",
       "    <tr>\n",
       "      <th>2</th>\n",
       "      <td>curia2415</td>\n",
       "      <td>Cn1nc(C(=O)N2CCC3(CN(C(=O)O3)c3ncccc3)CC2)c2c1...</td>\n",
       "      <td>common_04</td>\n",
       "    </tr>\n",
       "    <tr>\n",
       "      <th>3</th>\n",
       "      <td>curia2421</td>\n",
       "      <td>Cn1nc(C(=O)N2CCC3(CN(C(=O)O3)c3cc(Cl)ccc3)CC2)...</td>\n",
       "      <td>common_04</td>\n",
       "    </tr>\n",
       "    <tr>\n",
       "      <th>4</th>\n",
       "      <td>curia3810</td>\n",
       "      <td>CC(=O)N1CC2(CN(C2)S(=O)(=O)c2ccc(C)cc2C)CC1c1c...</td>\n",
       "      <td>common_04</td>\n",
       "    </tr>\n",
       "  </tbody>\n",
       "</table>\n",
       "</div>"
      ],
      "text/plain": [
       "        Name                                             SMILES        TAG\n",
       "0  curia1063  Cc1ccc(NC(=O)N2CCC3(CC2)c2c(-c4cn(nc34)C3CCOCC...  common_04\n",
       "1  curia0735        Fc1cc(ccc1)C(=O)N1CCN(CC1)c1noc(n1)c1ccccc1  common_04\n",
       "2  curia2415  Cn1nc(C(=O)N2CCC3(CN(C(=O)O3)c3ncccc3)CC2)c2c1...  common_04\n",
       "3  curia2421  Cn1nc(C(=O)N2CCC3(CN(C(=O)O3)c3cc(Cl)ccc3)CC2)...  common_04\n",
       "4  curia3810  CC(=O)N1CC2(CN(C2)S(=O)(=O)c2ccc(C)cc2C)CC1c1c...  common_04"
      ]
     },
     "metadata": {},
     "output_type": "display_data"
    },
    {
     "name": "stdout",
     "output_type": "stream",
     "text": [
      "(79, 3)\n"
     ]
    }
   ],
   "source": [
    "import pandas as pd\n",
    "\n",
    "df1 = pd.read_csv(f'../data/Curia_Binding_Analysis_on_MinD - top_98.csv', header=0)\n",
    "df1.rename(columns = {'Common':'TAG'}, inplace=True)\n",
    "df1 = df1[['Name','SMILES', 'TAG']]\n",
    "df1 = df1[df1['TAG'].isin(['common_04', 'common_05'])]\n",
    "df1.to_csv(f'../data/clustering_top_molecules_minD_common_4_5.csv', index=False)\n",
    "display(df1.head())\n",
    "print(df1.shape)"
   ]
  },
  {
   "cell_type": "code",
   "execution_count": 22,
   "id": "75e7c556-b8df-4977-bc0c-ed84e66df5d2",
   "metadata": {},
   "outputs": [
    {
     "data": {
      "text/plain": [
       "array(['common_04', 'common_05', 'common_06'], dtype=object)"
      ]
     },
     "execution_count": 22,
     "metadata": {},
     "output_type": "execute_result"
    }
   ],
   "source": [
    "df1['TAG'].unique()"
   ]
  },
  {
   "cell_type": "code",
   "execution_count": 26,
   "id": "be5fa54b-7034-4862-a67d-4046f7819dc7",
   "metadata": {},
   "outputs": [
    {
     "data": {
      "text/html": [
       "<div>\n",
       "<style scoped>\n",
       "    .dataframe tbody tr th:only-of-type {\n",
       "        vertical-align: middle;\n",
       "    }\n",
       "\n",
       "    .dataframe tbody tr th {\n",
       "        vertical-align: top;\n",
       "    }\n",
       "\n",
       "    .dataframe thead th {\n",
       "        text-align: right;\n",
       "    }\n",
       "</style>\n",
       "<table border=\"1\" class=\"dataframe\">\n",
       "  <thead>\n",
       "    <tr style=\"text-align: right;\">\n",
       "      <th></th>\n",
       "      <th>ID</th>\n",
       "      <th>Canonical Smiles</th>\n",
       "      <th>TAG</th>\n",
       "    </tr>\n",
       "  </thead>\n",
       "  <tbody>\n",
       "    <tr>\n",
       "      <th>0</th>\n",
       "      <td>CHEMBL83506</td>\n",
       "      <td>CC(C)(C)NC(=O)[C@@H]1C[C@@H]2CCCC[C@@H]2CN1C[C...</td>\n",
       "      <td>In_house_curated</td>\n",
       "    </tr>\n",
       "    <tr>\n",
       "      <th>1</th>\n",
       "      <td>CHEMBL3706525</td>\n",
       "      <td>CC(C)(C)NC(=O)[C@@H]1C[C@@H]2CCCC[C@@H]2CN1C[C...</td>\n",
       "      <td>In_house_curated</td>\n",
       "    </tr>\n",
       "    <tr>\n",
       "      <th>2</th>\n",
       "      <td>CHEMBL296480</td>\n",
       "      <td>CC(C)(C)NC(=O)[C@@H]1CC2CCCCC2CN1C[C@@H](O)[C@...</td>\n",
       "      <td>In_house_curated</td>\n",
       "    </tr>\n",
       "    <tr>\n",
       "      <th>3</th>\n",
       "      <td>CHEMBL405969</td>\n",
       "      <td>CC(C)(C)NC(=O)[C@@H]1C[C@@H]2CCCC[C@@H]2CN1C[C...</td>\n",
       "      <td>In_house_curated</td>\n",
       "    </tr>\n",
       "    <tr>\n",
       "      <th>4</th>\n",
       "      <td>CHEMBL3350205</td>\n",
       "      <td>CC(C)(C)NC(=O)[C@@H]1CC2CCCCC2CN1C[C@H](O)[C@H...</td>\n",
       "      <td>In_house_curated</td>\n",
       "    </tr>\n",
       "  </tbody>\n",
       "</table>\n",
       "</div>"
      ],
      "text/plain": [
       "              ID                                   Canonical Smiles  \\\n",
       "0    CHEMBL83506  CC(C)(C)NC(=O)[C@@H]1C[C@@H]2CCCC[C@@H]2CN1C[C...   \n",
       "1  CHEMBL3706525  CC(C)(C)NC(=O)[C@@H]1C[C@@H]2CCCC[C@@H]2CN1C[C...   \n",
       "2   CHEMBL296480  CC(C)(C)NC(=O)[C@@H]1CC2CCCCC2CN1C[C@@H](O)[C@...   \n",
       "3   CHEMBL405969  CC(C)(C)NC(=O)[C@@H]1C[C@@H]2CCCC[C@@H]2CN1C[C...   \n",
       "4  CHEMBL3350205  CC(C)(C)NC(=O)[C@@H]1CC2CCCCC2CN1C[C@H](O)[C@H...   \n",
       "\n",
       "                TAG  \n",
       "0  In_house_curated  \n",
       "1  In_house_curated  \n",
       "2  In_house_curated  \n",
       "3  In_house_curated  \n",
       "4  In_house_curated  "
      ]
     },
     "metadata": {},
     "output_type": "display_data"
    },
    {
     "name": "stdout",
     "output_type": "stream",
     "text": [
      "(3558, 3)\n"
     ]
    }
   ],
   "source": [
    "df2 = pd.read_csv('MMV_3558.csv')\n",
    "df2['TAG'] = 'In_house_curated'\n",
    "\n",
    "display(df2.head())\n",
    "print(df2.shape)"
   ]
  },
  {
   "cell_type": "code",
   "execution_count": 27,
   "id": "6c23c600-6acf-4ec8-abee-3cf54f1b6a10",
   "metadata": {},
   "outputs": [
    {
     "data": {
      "text/html": [
       "<div>\n",
       "<style scoped>\n",
       "    .dataframe tbody tr th:only-of-type {\n",
       "        vertical-align: middle;\n",
       "    }\n",
       "\n",
       "    .dataframe tbody tr th {\n",
       "        vertical-align: top;\n",
       "    }\n",
       "\n",
       "    .dataframe thead th {\n",
       "        text-align: right;\n",
       "    }\n",
       "</style>\n",
       "<table border=\"1\" class=\"dataframe\">\n",
       "  <thead>\n",
       "    <tr style=\"text-align: right;\">\n",
       "      <th></th>\n",
       "      <th>TAG</th>\n",
       "      <th>SMILES</th>\n",
       "    </tr>\n",
       "  </thead>\n",
       "  <tbody>\n",
       "    <tr>\n",
       "      <th>0</th>\n",
       "      <td>from_MMV</td>\n",
       "      <td>COc1ccccc1CNC(=O)CCN2C(=O)Nc3ccsc3C2=O</td>\n",
       "    </tr>\n",
       "    <tr>\n",
       "      <th>1</th>\n",
       "      <td>from_MMV</td>\n",
       "      <td>CN(C)c1ccc(cc1)C(O)(c2ccc(cc2)N(C)C)c3ccc(cc3)...</td>\n",
       "    </tr>\n",
       "    <tr>\n",
       "      <th>2</th>\n",
       "      <td>from_MMV</td>\n",
       "      <td>c1(cc(c2ccc(C)cc2)n3)n3ccnc1SCC(=O)Nc(c(Cl)ccc...</td>\n",
       "    </tr>\n",
       "    <tr>\n",
       "      <th>3</th>\n",
       "      <td>from_MMV</td>\n",
       "      <td>CCOC(=O)C1=C(N=C2SC(=Cc3cc(C)n(c3C)c4ccc(F)cc4...</td>\n",
       "    </tr>\n",
       "    <tr>\n",
       "      <th>4</th>\n",
       "      <td>from_MMV</td>\n",
       "      <td>CCOC(=O)c1cnc2c(C)cc(C)cc2c1Nc3ccc(OC)c(OC)c3</td>\n",
       "    </tr>\n",
       "  </tbody>\n",
       "</table>\n",
       "</div>"
      ],
      "text/plain": [
       "        TAG                                             SMILES\n",
       "0  from_MMV             COc1ccccc1CNC(=O)CCN2C(=O)Nc3ccsc3C2=O\n",
       "1  from_MMV  CN(C)c1ccc(cc1)C(O)(c2ccc(cc2)N(C)C)c3ccc(cc3)...\n",
       "2  from_MMV  c1(cc(c2ccc(C)cc2)n3)n3ccnc1SCC(=O)Nc(c(Cl)ccc...\n",
       "3  from_MMV  CCOC(=O)C1=C(N=C2SC(=Cc3cc(C)n(c3C)c4ccc(F)cc4...\n",
       "4  from_MMV      CCOC(=O)c1cnc2c(C)cc(C)cc2c1Nc3ccc(OC)c(OC)c3"
      ]
     },
     "metadata": {},
     "output_type": "display_data"
    },
    {
     "name": "stdout",
     "output_type": "stream",
     "text": [
      "(22881, 2)\n"
     ]
    }
   ],
   "source": [
    "df_concat = pd.concat([df1, df2], ignore_index=True)\n",
    "df_concat = df_concat.drop(columns=['ID'])\n",
    "df_concat = df_concat.rename(columns={'Canonical Smiles': 'SMILES'})\n",
    "df_concat = df_concat.reindex(columns=['TAG', 'SMILES'])\n",
    "df_concat = df_concat.dropna()\n",
    "df_concat.to_csv('22k.csv', index=False)\n",
    "\n",
    "display(df_concat.head())\n",
    "print(df_concat.shape)"
   ]
  },
  {
   "cell_type": "code",
   "execution_count": 4,
   "id": "a65cb0d4-e0d1-4608-8a43-50945c825fb1",
   "metadata": {},
   "outputs": [
    {
     "data": {
      "text/html": [
       "<div>\n",
       "<style scoped>\n",
       "    .dataframe tbody tr th:only-of-type {\n",
       "        vertical-align: middle;\n",
       "    }\n",
       "\n",
       "    .dataframe tbody tr th {\n",
       "        vertical-align: top;\n",
       "    }\n",
       "\n",
       "    .dataframe thead th {\n",
       "        text-align: right;\n",
       "    }\n",
       "</style>\n",
       "<table border=\"1\" class=\"dataframe\">\n",
       "  <thead>\n",
       "    <tr style=\"text-align: right;\">\n",
       "      <th></th>\n",
       "      <th>SMILES</th>\n",
       "      <th>TAG</th>\n",
       "    </tr>\n",
       "  </thead>\n",
       "  <tbody>\n",
       "    <tr>\n",
       "      <th>0</th>\n",
       "      <td>Nc(c(O)ccc1)c1C(O)=O</td>\n",
       "      <td>Model trained on</td>\n",
       "    </tr>\n",
       "    <tr>\n",
       "      <th>1</th>\n",
       "      <td>Nc(cc1)ccc1O</td>\n",
       "      <td>Model trained on</td>\n",
       "    </tr>\n",
       "    <tr>\n",
       "      <th>2</th>\n",
       "      <td>OC(CCCCC1SSCC1)=O</td>\n",
       "      <td>Model trained on</td>\n",
       "    </tr>\n",
       "    <tr>\n",
       "      <th>3</th>\n",
       "      <td>OS(c1cccc2cccc(Nc3ccccc3)c12)(=O)=O</td>\n",
       "      <td>Model trained on</td>\n",
       "    </tr>\n",
       "    <tr>\n",
       "      <th>4</th>\n",
       "      <td>Oc(cccc1Cc2cccc(O)c22)c1C2=O</td>\n",
       "      <td>Model trained on</td>\n",
       "    </tr>\n",
       "  </tbody>\n",
       "</table>\n",
       "</div>"
      ],
      "text/plain": [
       "                                SMILES               TAG\n",
       "0                 Nc(c(O)ccc1)c1C(O)=O  Model trained on\n",
       "1                         Nc(cc1)ccc1O  Model trained on\n",
       "2                    OC(CCCCC1SSCC1)=O  Model trained on\n",
       "3  OS(c1cccc2cccc(Nc3ccccc3)c12)(=O)=O  Model trained on\n",
       "4         Oc(cccc1Cc2cccc(O)c22)c1C2=O  Model trained on"
      ]
     },
     "metadata": {},
     "output_type": "display_data"
    },
    {
     "name": "stdout",
     "output_type": "stream",
     "text": [
      "(5371, 2)\n"
     ]
    }
   ],
   "source": [
    "df = pd.read_csv('mtb_permeability.txt', delimiter='\\t')\n",
    "df = df[['Smiles', 'MtbPen']]\n",
    "df = df.rename(columns={'Smiles':'SMILES', 'MtbPen':'TAG'})\n",
    "df['TAG'] = 'Model trained on'\n",
    "display(df.head())\n",
    "print(df.shape)"
   ]
  },
  {
   "cell_type": "code",
   "execution_count": 6,
   "id": "ff5d050b-4fc3-420d-b96c-aa546bfb369d",
   "metadata": {},
   "outputs": [
    {
     "data": {
      "text/html": [
       "<div>\n",
       "<style scoped>\n",
       "    .dataframe tbody tr th:only-of-type {\n",
       "        vertical-align: middle;\n",
       "    }\n",
       "\n",
       "    .dataframe tbody tr th {\n",
       "        vertical-align: top;\n",
       "    }\n",
       "\n",
       "    .dataframe thead th {\n",
       "        text-align: right;\n",
       "    }\n",
       "</style>\n",
       "<table border=\"1\" class=\"dataframe\">\n",
       "  <thead>\n",
       "    <tr style=\"text-align: right;\">\n",
       "      <th></th>\n",
       "      <th>SMILES</th>\n",
       "      <th>TAG</th>\n",
       "    </tr>\n",
       "  </thead>\n",
       "  <tbody>\n",
       "    <tr>\n",
       "      <th>0</th>\n",
       "      <td>Cc1cc(C(=O)N2CCCCC2c2nc(no2)c2ccccc2)c2n[nH]cc2c1</td>\n",
       "      <td>common_to_4_5_6</td>\n",
       "    </tr>\n",
       "    <tr>\n",
       "      <th>1</th>\n",
       "      <td>O=c1cc(CN2CCCC(C2)n2cnc3ccccc3c2=O)[nH]c2ccnn12</td>\n",
       "      <td>common_to_4_5_6</td>\n",
       "    </tr>\n",
       "    <tr>\n",
       "      <th>2</th>\n",
       "      <td>CC1(C)C2CCC1(C)c1c2c(nn1c1ccccc1)C(=O)Nc1cccc(...</td>\n",
       "      <td>common_to_4_5_6</td>\n",
       "    </tr>\n",
       "    <tr>\n",
       "      <th>3</th>\n",
       "      <td>CCn1c(=O)c(=O)[nH]c2cc(ccc12)C(=O)N1CCC(=CC1)c...</td>\n",
       "      <td>common_to_4_5_6</td>\n",
       "    </tr>\n",
       "    <tr>\n",
       "      <th>4</th>\n",
       "      <td>Cc1ccc2[nH]c(cc2c1C)C(=O)N1CCC(CC1)c1c[nH]c2nc...</td>\n",
       "      <td>common_to_4_5_6</td>\n",
       "    </tr>\n",
       "  </tbody>\n",
       "</table>\n",
       "</div>"
      ],
      "text/plain": [
       "                                              SMILES              TAG\n",
       "0  Cc1cc(C(=O)N2CCCCC2c2nc(no2)c2ccccc2)c2n[nH]cc2c1  common_to_4_5_6\n",
       "1    O=c1cc(CN2CCCC(C2)n2cnc3ccccc3c2=O)[nH]c2ccnn12  common_to_4_5_6\n",
       "2  CC1(C)C2CCC1(C)c1c2c(nn1c1ccccc1)C(=O)Nc1cccc(...  common_to_4_5_6\n",
       "3  CCn1c(=O)c(=O)[nH]c2cc(ccc12)C(=O)N1CCC(=CC1)c...  common_to_4_5_6\n",
       "4  Cc1ccc2[nH]c(cc2c1C)C(=O)N1CCC(CC1)c1c[nH]c2nc...  common_to_4_5_6"
      ]
     },
     "metadata": {},
     "output_type": "display_data"
    },
    {
     "name": "stdout",
     "output_type": "stream",
     "text": [
      "(214, 2)\n"
     ]
    }
   ],
   "source": [
    "df1 = pd.read_csv('385_mols.csv')\n",
    "df1 = df1[['SMILES', 'TAG']]\n",
    "df1['TAG'] = 'common_to_4_5_6'\n",
    "display(df1.head())\n",
    "print(df1.shape)"
   ]
  },
  {
   "cell_type": "code",
   "execution_count": 9,
   "id": "0c5dadc2-32c8-40e0-a132-52553128a6e6",
   "metadata": {},
   "outputs": [
    {
     "data": {
      "text/html": [
       "<div>\n",
       "<style scoped>\n",
       "    .dataframe tbody tr th:only-of-type {\n",
       "        vertical-align: middle;\n",
       "    }\n",
       "\n",
       "    .dataframe tbody tr th {\n",
       "        vertical-align: top;\n",
       "    }\n",
       "\n",
       "    .dataframe thead th {\n",
       "        text-align: right;\n",
       "    }\n",
       "</style>\n",
       "<table border=\"1\" class=\"dataframe\">\n",
       "  <thead>\n",
       "    <tr style=\"text-align: right;\">\n",
       "      <th></th>\n",
       "      <th>SMILES</th>\n",
       "      <th>TAG</th>\n",
       "    </tr>\n",
       "  </thead>\n",
       "  <tbody>\n",
       "    <tr>\n",
       "      <th>0</th>\n",
       "      <td>CC(NC(=O)Nc1nnc(s1)C1CCCO1)c1cccc(c1)C(F)(F)F</td>\n",
       "      <td>individuals</td>\n",
       "    </tr>\n",
       "    <tr>\n",
       "      <th>1</th>\n",
       "      <td>Cc1cc(c2nnc(CCc3nc(no3)c3ccccn3)o2)c2ccccc2n1</td>\n",
       "      <td>individuals</td>\n",
       "    </tr>\n",
       "    <tr>\n",
       "      <th>2</th>\n",
       "      <td>CC(C)(NC(=O)Nc1cccc2ccc(F)cc12)c1nnc2CCCCn12</td>\n",
       "      <td>individuals</td>\n",
       "    </tr>\n",
       "    <tr>\n",
       "      <th>3</th>\n",
       "      <td>O=C(CCc1nc2ccccc2c(=O)[nH]1)N1CCC(CC1)n1c(=O)[...</td>\n",
       "      <td>individuals</td>\n",
       "    </tr>\n",
       "    <tr>\n",
       "      <th>4</th>\n",
       "      <td>Cc1n[nH]c2c(ncnc12)N1CCN(CC1)S(=O)(=O)c1ccc2cc...</td>\n",
       "      <td>individuals</td>\n",
       "    </tr>\n",
       "  </tbody>\n",
       "</table>\n",
       "</div>"
      ],
      "text/plain": [
       "                                              SMILES          TAG\n",
       "0      CC(NC(=O)Nc1nnc(s1)C1CCCO1)c1cccc(c1)C(F)(F)F  individuals\n",
       "1      Cc1cc(c2nnc(CCc3nc(no3)c3ccccn3)o2)c2ccccc2n1  individuals\n",
       "2       CC(C)(NC(=O)Nc1cccc2ccc(F)cc12)c1nnc2CCCCn12  individuals\n",
       "3  O=C(CCc1nc2ccccc2c(=O)[nH]1)N1CCC(CC1)n1c(=O)[...  individuals\n",
       "4  Cc1n[nH]c2c(ncnc12)N1CCN(CC1)S(=O)(=O)c1ccc2cc...  individuals"
      ]
     },
     "metadata": {},
     "output_type": "display_data"
    },
    {
     "name": "stdout",
     "output_type": "stream",
     "text": [
      "(47, 2)\n"
     ]
    }
   ],
   "source": [
    "df2 = pd.read_csv('top20_all_conf.csv')\n",
    "df2 = df2.rename(columns = {'Name': 'TAG'})\n",
    "df2 = df2[['SMILES', 'TAG']]\n",
    "df2['TAG'] = 'individuals'\n",
    "display(df2.head())\n",
    "print(df2.shape)"
   ]
  },
  {
   "cell_type": "code",
   "execution_count": 13,
   "id": "ce97e474-39e2-4829-a294-a636ed4a60c5",
   "metadata": {},
   "outputs": [
    {
     "data": {
      "text/html": [
       "<div>\n",
       "<style scoped>\n",
       "    .dataframe tbody tr th:only-of-type {\n",
       "        vertical-align: middle;\n",
       "    }\n",
       "\n",
       "    .dataframe tbody tr th {\n",
       "        vertical-align: top;\n",
       "    }\n",
       "\n",
       "    .dataframe thead th {\n",
       "        text-align: right;\n",
       "    }\n",
       "</style>\n",
       "<table border=\"1\" class=\"dataframe\">\n",
       "  <thead>\n",
       "    <tr style=\"text-align: right;\">\n",
       "      <th></th>\n",
       "      <th>SMILES</th>\n",
       "      <th>TAG</th>\n",
       "    </tr>\n",
       "  </thead>\n",
       "  <tbody>\n",
       "    <tr>\n",
       "      <th>0</th>\n",
       "      <td>Cc1cc(C(=O)N2CCCCC2c2nc(no2)c2ccccc2)c2n[nH]cc2c1</td>\n",
       "      <td>mols_binding_minD</td>\n",
       "    </tr>\n",
       "    <tr>\n",
       "      <th>1</th>\n",
       "      <td>O=c1cc(CN2CCCC(C2)n2cnc3ccccc3c2=O)[nH]c2ccnn12</td>\n",
       "      <td>mols_binding_minD</td>\n",
       "    </tr>\n",
       "    <tr>\n",
       "      <th>2</th>\n",
       "      <td>CC1(C)C2CCC1(C)c1c2c(nn1c1ccccc1)C(=O)Nc1cccc(...</td>\n",
       "      <td>mols_binding_minD</td>\n",
       "    </tr>\n",
       "    <tr>\n",
       "      <th>3</th>\n",
       "      <td>CCn1c(=O)c(=O)[nH]c2cc(ccc12)C(=O)N1CCC(=CC1)c...</td>\n",
       "      <td>mols_binding_minD</td>\n",
       "    </tr>\n",
       "    <tr>\n",
       "      <th>4</th>\n",
       "      <td>Cc1ccc2[nH]c(cc2c1C)C(=O)N1CCC(CC1)c1c[nH]c2nc...</td>\n",
       "      <td>mols_binding_minD</td>\n",
       "    </tr>\n",
       "  </tbody>\n",
       "</table>\n",
       "</div>"
      ],
      "text/plain": [
       "                                              SMILES                TAG\n",
       "0  Cc1cc(C(=O)N2CCCCC2c2nc(no2)c2ccccc2)c2n[nH]cc2c1  mols_binding_minD\n",
       "1    O=c1cc(CN2CCCC(C2)n2cnc3ccccc3c2=O)[nH]c2ccnn12  mols_binding_minD\n",
       "2  CC1(C)C2CCC1(C)c1c2c(nn1c1ccccc1)C(=O)Nc1cccc(...  mols_binding_minD\n",
       "3  CCn1c(=O)c(=O)[nH]c2cc(ccc12)C(=O)N1CCC(=CC1)c...  mols_binding_minD\n",
       "4  Cc1ccc2[nH]c(cc2c1C)C(=O)N1CCC(CC1)c1c[nH]c2nc...  mols_binding_minD"
      ]
     },
     "metadata": {},
     "output_type": "display_data"
    },
    {
     "name": "stdout",
     "output_type": "stream",
     "text": [
      "(261, 2)\n"
     ]
    }
   ],
   "source": [
    "df3 = pd.concat([df1, df2], ignore_index=True)\n",
    "df3['TAG'] = 'mols_binding_minD'\n",
    "display(df3.head())\n",
    "print(df3.shape)"
   ]
  },
  {
   "cell_type": "code",
   "execution_count": 15,
   "id": "399668f5-53b4-40c7-a51c-37c93b046833",
   "metadata": {},
   "outputs": [
    {
     "data": {
      "text/html": [
       "<div>\n",
       "<style scoped>\n",
       "    .dataframe tbody tr th:only-of-type {\n",
       "        vertical-align: middle;\n",
       "    }\n",
       "\n",
       "    .dataframe tbody tr th {\n",
       "        vertical-align: top;\n",
       "    }\n",
       "\n",
       "    .dataframe thead th {\n",
       "        text-align: right;\n",
       "    }\n",
       "</style>\n",
       "<table border=\"1\" class=\"dataframe\">\n",
       "  <thead>\n",
       "    <tr style=\"text-align: right;\">\n",
       "      <th></th>\n",
       "      <th>SMILES</th>\n",
       "      <th>TAG</th>\n",
       "    </tr>\n",
       "  </thead>\n",
       "  <tbody>\n",
       "    <tr>\n",
       "      <th>0</th>\n",
       "      <td>Nc(c(O)ccc1)c1C(O)=O</td>\n",
       "      <td>Model trained on</td>\n",
       "    </tr>\n",
       "    <tr>\n",
       "      <th>1</th>\n",
       "      <td>Nc(cc1)ccc1O</td>\n",
       "      <td>Model trained on</td>\n",
       "    </tr>\n",
       "    <tr>\n",
       "      <th>2</th>\n",
       "      <td>OC(CCCCC1SSCC1)=O</td>\n",
       "      <td>Model trained on</td>\n",
       "    </tr>\n",
       "    <tr>\n",
       "      <th>3</th>\n",
       "      <td>OS(c1cccc2cccc(Nc3ccccc3)c12)(=O)=O</td>\n",
       "      <td>Model trained on</td>\n",
       "    </tr>\n",
       "    <tr>\n",
       "      <th>4</th>\n",
       "      <td>Oc(cccc1Cc2cccc(O)c22)c1C2=O</td>\n",
       "      <td>Model trained on</td>\n",
       "    </tr>\n",
       "  </tbody>\n",
       "</table>\n",
       "</div>"
      ],
      "text/plain": [
       "                                SMILES               TAG\n",
       "0                 Nc(c(O)ccc1)c1C(O)=O  Model trained on\n",
       "1                         Nc(cc1)ccc1O  Model trained on\n",
       "2                    OC(CCCCC1SSCC1)=O  Model trained on\n",
       "3  OS(c1cccc2cccc(Nc3ccccc3)c12)(=O)=O  Model trained on\n",
       "4         Oc(cccc1Cc2cccc(O)c22)c1C2=O  Model trained on"
      ]
     },
     "metadata": {},
     "output_type": "display_data"
    },
    {
     "name": "stdout",
     "output_type": "stream",
     "text": [
      "(5632, 2)\n"
     ]
    }
   ],
   "source": [
    "df4 = pd.concat([df, df3], ignore_index=True)\n",
    "\n",
    "df4.to_csv('test_chemical_space.csv', index=False)\n",
    "display(df4.head())\n",
    "print(df4.shape)"
   ]
  },
  {
   "cell_type": "code",
   "execution_count": null,
   "id": "aba396b0-2d42-42c4-8ed6-e0f79bfc54d8",
   "metadata": {},
   "outputs": [],
   "source": []
  }
 ],
 "metadata": {
  "kernelspec": {
   "display_name": "Python 3 (ipykernel)",
   "language": "python",
   "name": "python3"
  },
  "language_info": {
   "codemirror_mode": {
    "name": "ipython",
    "version": 3
   },
   "file_extension": ".py",
   "mimetype": "text/x-python",
   "name": "python",
   "nbconvert_exporter": "python",
   "pygments_lexer": "ipython3",
   "version": "3.8.10"
  }
 },
 "nbformat": 4,
 "nbformat_minor": 5
}
