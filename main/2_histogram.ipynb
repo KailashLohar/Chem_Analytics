{
 "cells": [
  {
   "cell_type": "code",
   "execution_count": null,
   "id": "71fdcfa1-313d-49b8-b113-3eb296439d60",
   "metadata": {},
   "outputs": [],
   "source": [
    "import os\n",
    "import pandas as pd\n",
    "import numpy as np\n",
    "import matplotlib.pyplot as plt\n",
    "\n",
    "from matplotlib.colors import to_rgba\n",
    "from matplotlib.patches import Rectangle\n",
    "from scipy.interpolate import make_interp_spline"
   ]
  },
  {
   "cell_type": "code",
   "execution_count": null,
   "id": "c3bed440-a394-4840-bb85-41841dbbc4ff",
   "metadata": {},
   "outputs": [],
   "source": [
    "material = {\n",
    "    \"red\":         {0: \"#ffebee\",1: \"#ffcdd2\",2: \"#ef9a9a\",3: \"#e57373\",4: \"#ef5350\",5: \"#f44336\",6: \"#e53935\",7: \"#d32f2f\",8: \"#c62828\",9: \"#b71c1c\",},\n",
    "    \"pink\":        {0: \"#fce4ec\",1: \"#f8bbd0\",2: \"#f48fb1\",3: \"#f06292\",4: \"#ec407a\",5: \"#e91e63\",6: \"#d81b60\",7: \"#c2185b\",8: \"#ad1457\",9: \"#880e4f\",},\n",
    "    \"purple\":      {0: \"#f3e5f5\",1: \"#e1bee7\",2: \"#ce93d8\",3: \"#ba68c8\",4: \"#ab47bc\",5: \"#9c27b0\",6: \"#8e24aa\",7: \"#7b1fa2\",8: \"#6a1b9a\",9: \"#4a148c\",},\n",
    "    \"dep purp\":    {0: \"#ede7f6\",1: \"#d1c4e9\",2: \"#b39ddb\",3: \"#9575cd\",4: \"#7e57c2\",5: \"#673ab7\",6: \"#5e35b1\",7: \"#512da8\",8: \"#4527a0\",9: \"#311b92\",},\n",
    "    \"indigo\":      {0: \"#e8eaf6\",1: \"#c5cae9\",2: \"#9fa8da\",3: \"#7986cb\",4: \"#5c6bc0\",5: \"#3f51b5\",6: \"#3949ab\",7: \"#303f9f\",8: \"#283593\",9: \"#1a237e\",},\n",
    "    \"blue\":        {0: \"#e3f2fd\",1: \"#bbdefb\",2: \"#90caf9\",3: \"#64b5f6\",4: \"#42a5f5\",5: \"#2196f3\",6: \"#1e88e5\",7: \"#1976d2\",8: \"#1565c0\",9: \"#0d47a1\",},\n",
    "    \"lit blu\":     {0: \"#e1f5fe\",1: \"#b3e5fc\",2: \"#81d4fa\",3: \"#4fc3f7\",4: \"#29b6f6\",5: \"#03a9f4\",6: \"#039be5\",7: \"#0288d1\",8: \"#0277bd\",9: \"#01579b\",},\n",
    "    \"cyan\":        {0: \"#e0f7fa\",1: \"#b2ebf2\",2: \"#80deea\",3: \"#4dd0e1\",4: \"#26c6da\",5: \"#00bcd4\",6: \"#00acc1\",7: \"#0097a7\",8: \"#00838f\",9: \"#006064\",},\n",
    "    \"teal\":        {0: \"#e0f2f1\",1: \"#b2dfdb\",2: \"#80cbc4\",3: \"#4db6ac\",4: \"#26a69a\",5: \"#009688\",6: \"#00897b\",7: \"#00796b\",8: \"#00695c\",9: \"#004d40\",},\n",
    "    \"green\":       {0: \"#e8f5e9\",1: \"#c8e6c9\",2: \"#a5d6a7\",3: \"#81c784\",4: \"#66bb6a\",5: \"#4caf50\",6: \"#43a047\",7: \"#388e3c\",8: \"#2e7d32\",9: \"#1b5e20\",},\n",
    "    \"lit grn\":     {0: \"#f1f8e9\",1: \"#dcedc8\",2: \"#c5e1a5\",3: \"#aed581\",4: \"#9ccc65\",5: \"#8bc34a\",6: \"#7cb342\",7: \"#689f38\",8: \"#558b2f\",9: \"#33691e\",},\n",
    "    \"lime\":        {0: \"#f9fbe7\",1: \"#f0f4c3\",2: \"#e6ee9c\",3: \"#dce775\",4: \"#d4e157\",5: \"#cddc39\",6: \"#c0ca33\",7: \"#afb42b\",8: \"#9e9d24\",9: \"#827717\",},\n",
    "    \"yellow\":      {0: \"#fffde7\",1: \"#fff9c4\",2: \"#fff59d\",3: \"#fff176\",4: \"#ffee58\",5: \"#ffeb3b\",6: \"#fdd835\",7: \"#fbc02d\",8: \"#f9a825\",9: \"#f57f17\",},\n",
    "    \"amber\":       {0: \"#fff8e1\",1: \"#ffecb3\",2: \"#ffe082\",3: \"#ffd54f\",4: \"#ffca28\",5: \"#ffc107\",6: \"#ffb300\",7: \"#ffa000\",8: \"#ff8f00\",9: \"#ff6f00\",},\n",
    "    \"orange\":      {0: \"#fff3e0\",1: \"#ffe0b2\",2: \"#ffcc80\",3: \"#ffb74d\",4: \"#ffa726\",5: \"#ff9800\",6: \"#fb8c00\",7: \"#f57c00\",8: \"#ef6c00\",9: \"#e65100\",},\n",
    "    \"dep ora\":     {0: \"#fbe9e7\",1: \"#ffccbc\",2: \"#ffab91\",3: \"#ff8a65\",4: \"#ff7043\",5: \"#ff5722\",6: \"#f4511e\",7: \"#e64a19\",8: \"#d84315\",9: \"#bf360c\",},\n",
    "    \"brown\":       {0: \"#efebe9\",1: \"#d7ccc8\",2: \"#bcaaa4\",3: \"#a1887f\",4: \"#8d6e63\",5: \"#795548\",6: \"#6d4c41\",7: \"#5d4037\",8: \"#4e342e\",9: \"#3e2723\",},\n",
    "    \"grey\":        {0: \"#fafafa\",1: \"#f5f5f5\",2: \"#eeeeee\",3: \"#e0e0e0\",4: \"#bdbdbd\",5: \"#9e9e9e\",6: \"#757575\",7: \"#616161\",8: \"#424242\",9: \"#212121\",},\n",
    "    \"blu gry\":     {0: \"#eceff1\",1: \"#cfd8dc\",2: \"#b0bec5\",3: \"#90a4ae\",4: \"#78909c\",5: \"#607d8b\",6: \"#546e7a\",7: \"#455a64\",8: \"#37474f\",9: \"#263238\",},\n",
    "    }"
   ]
  },
  {
   "cell_type": "code",
   "execution_count": null,
   "id": "e30925af-d279-45b6-b70b-c97c2601aee9",
   "metadata": {},
   "outputs": [],
   "source": [
    "def show_color_palette(colors, title):\n",
    "    fig, ax = plt.subplots(1, len(colors) + 1, figsize=(16, 2))\n",
    "\n",
    "    for i, (shade, color_code) in enumerate(colors.items()):\n",
    "        rgba_color = to_rgba(color_code)\n",
    "        color_patch = Rectangle((0, 0), 1, 1, color=rgba_color, edgecolor='none')\n",
    "        ax[i].add_patch(color_patch)\n",
    "        ax[i].axis('off')\n",
    "        ax[i].text(0.5, 0.5, shade, horizontalalignment='center', verticalalignment='center', fontsize=10, color='black')\n",
    "\n",
    "    ax[-1].text(0.5, 0.5, title, horizontalalignment='center', verticalalignment='center', fontsize=16, color='black')\n",
    "    ax[-1].axis('off')\n",
    "    plt.show()\n",
    "\n",
    "for color, shades in material.items():\n",
    "    show_color_palette(shades, f\"{color.capitalize()}\")\n",
    "\n",
    "os.makedirs('figures', exist_ok=True)"
   ]
  },
  {
   "cell_type": "markdown",
   "id": "26402851-e259-4389-9fe7-c8a60e49f5c0",
   "metadata": {},
   "source": [
    "<div style=\"background-color:#4B6587; color:#F0E5CF; padding: 1px; border-radius: 10px;\">\n",
    "    <h2 style=\"font-size: 16px; margin-left: 10px;\">  </h2>\n",
    "</div>"
   ]
  },
  {
   "cell_type": "code",
   "execution_count": null,
   "id": "cafe55b0-fdea-415c-9c33-44b19911edab",
   "metadata": {},
   "outputs": [],
   "source": [
    "df = pd.read_csv('data/affinity_all_apo_c1.csv')\n",
    "\n",
    "display(df.head())\n",
    "print(df.shape)"
   ]
  },
  {
   "cell_type": "code",
   "execution_count": null,
   "id": "263559da-4744-490f-b510-7e1522980809",
   "metadata": {},
   "outputs": [],
   "source": [
    "def plot_affinity_total(df, bins=None, range_bounds=(-11.0, -4.0), smooth_factor=10):\n",
    "    plt.figure(figsize=(10, 6))\n",
    "    data_range = df['Affinity'].loc[(df['Affinity'] >= range_bounds[0]) & (df['Affinity'] <= range_bounds[1])]\n",
    "    n, bins, patches = plt.hist(data_range, bins=bins, range=range_bounds, color='#5d4037', rwidth=0.8, alpha=0.7)\n",
    "    \n",
    "    # Highlight bins in the range from -9 to -11\n",
    "    for i, bin_value in enumerate(bins[:-1]):\n",
    "        if bin_value >= -11 and bin_value <= -9.1:\n",
    "            patches[i].set_facecolor('#d32f2f')  \n",
    "    \n",
    "    bin_centers = 0.5 * (bins[:-1] + bins[1:])\n",
    "    smooth_bin_centers = np.linspace(min(bin_centers), max(bin_centers), len(bin_centers) * smooth_factor)\n",
    "    spline = make_interp_spline(bin_centers, n, k=3)\n",
    "    smooth_curve = spline(smooth_bin_centers)\n",
    "    \n",
    "    # plt.plot(smooth_bin_centers, smooth_curve, color='#6d4c41', linestyle='-', linewidth=2)\n",
    "    plt.title('Frequency Distribution of BA of total compounds', fontsize=10)\n",
    "    plt.xlabel('Binding Affinity (kcal/mol)', labelpad=15)\n",
    "    plt.ylabel('Counts')\n",
    "    plt.grid(axis='y', linestyle='--', alpha=0.7)\n",
    "    plt.gca().spines['top'].set_visible(False)\n",
    "    plt.gca().spines['right'].set_visible(False)\n",
    "    plt.gca().spines['bottom'].set_visible(False)\n",
    "    plt.gca().spines['left'].set_visible(False)\n",
    "    plt.gca().tick_params(left=True, bottom=False)\n",
    "    plt.xticks(np.arange(-11, -3, step=1), fontsize=8)  \n",
    "    plt.savefig(\"figures/binding_affinity_of_all.png\", bbox_inches='tight')\n",
    "    plt.show()\n",
    "\n",
    "plot_affinity_total(df, bins=35)"
   ]
  },
  {
   "cell_type": "code",
   "execution_count": null,
   "id": "cfe88ae5-5179-4008-b373-26c55c7da011",
   "metadata": {},
   "outputs": [],
   "source": [
    "df_threshold = pd.read_csv('data/apo_c1.csv')\n",
    "\n",
    "display(df_threshold.head())\n",
    "print(df_threshold.shape)"
   ]
  },
  {
   "cell_type": "code",
   "execution_count": null,
   "id": "52f770d2-9e6d-4160-9943-962fb8d7a77c",
   "metadata": {},
   "outputs": [],
   "source": [
    "def plot_affinity_threshold(df, bins=None, range_bounds=(-11.0, -9.0), smooth_factor=10):\n",
    "    plt.figure(figsize=(4, 3))\n",
    "    data_range = df['Affinity'].loc[(df['Affinity'] >= range_bounds[0]) & (df['Affinity'] <= range_bounds[1])]\n",
    "    n, bins, patches = plt.hist(data_range, bins=bins, range=range_bounds, color='#5d4037', rwidth=0.6, alpha=0.7)\n",
    "    \n",
    "    for i, bin_value in enumerate(bins[:-1]):\n",
    "        if bin_value >= -11 and bin_value <= -9.1:\n",
    "            patches[i].set_facecolor('#d32f2f')  \n",
    "    \n",
    "    bin_centers = 0.5 * (bins[:-1] + bins[1:])\n",
    "    smooth_bin_centers = np.linspace(min(bin_centers), max(bin_centers), len(bin_centers) * smooth_factor)\n",
    "    spline = make_interp_spline(bin_centers, n, k=3)\n",
    "    smooth_curve = spline(smooth_bin_centers)\n",
    "    \n",
    "    plt.title('Frequency Distribution of compounds having BA less than μ - 2σ ', fontsize=10)\n",
    "    plt.xlabel('Binding Affinity (kcal/mol)', labelpad=15)\n",
    "    plt.ylabel('Counts')\n",
    "    plt.grid(axis='y', linestyle='--', alpha=0.7)\n",
    "    plt.gca().spines['top'].set_visible(False)\n",
    "    plt.gca().spines['right'].set_visible(False)\n",
    "    plt.gca().spines['bottom'].set_visible(False)\n",
    "    plt.gca().spines['left'].set_visible(False)\n",
    "    plt.gca().tick_params(left=True, bottom=False)\n",
    "    plt.xticks(np.arange(-11, -8, step=1), fontsize=8) \n",
    "    plt.savefig(\"figures/binding_affinity_within_threshold.png\", bbox_inches='tight')\n",
    "    plt.show()\n",
    "\n",
    "plot_affinity_threshold(df_threshold, bins=8)"
   ]
  },
  {
   "cell_type": "markdown",
   "id": "203fa7a4-ee99-45b4-bde7-e221befea6ff",
   "metadata": {},
   "source": [
    "<div style=\"background-color:#4B6587; color:#F0E5CF; padding: 5px; border-radius: 10px;\">\n",
    "    <h2 style=\"font-size: 0px; margin-left: 10px;\">  </h2>\n",
    "</div>"
   ]
  }
 ],
 "metadata": {
  "kernelspec": {
   "display_name": "Python 3 (ipykernel)",
   "language": "python",
   "name": "python3"
  },
  "language_info": {
   "codemirror_mode": {
    "name": "ipython",
    "version": 3
   },
   "file_extension": ".py",
   "mimetype": "text/x-python",
   "name": "python",
   "nbconvert_exporter": "python",
   "pygments_lexer": "ipython3",
   "version": "3.8.10"
  }
 },
 "nbformat": 4,
 "nbformat_minor": 5
}
