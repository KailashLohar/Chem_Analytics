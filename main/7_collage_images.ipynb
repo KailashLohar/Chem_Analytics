{
 "cells": [
  {
   "cell_type": "code",
   "execution_count": null,
   "id": "ea0a688e-6cec-4220-8e43-aefb4443447e",
   "metadata": {},
   "outputs": [],
   "source": [
    "# Horizontal stack\n",
    "from PIL import Image, ImageDraw\n",
    "\n",
    "image_files = ['1.png', '2.png']\n",
    "\n",
    "images = [Image.open(file) for file in image_files]\n",
    "\n",
    "widths, heights = zip(*(img.size for img in images))\n",
    "\n",
    "border_size = 2  \n",
    "collage_width = sum(widths) + (len(images) - 1) * border_size + 2 * border_size  # Add extra border at each end\n",
    "collage_height = max(heights)\n",
    "\n",
    "collage = Image.new('RGB', (collage_width, collage_height), (255, 255, 255))\n",
    "\n",
    "draw = ImageDraw.Draw(collage)\n",
    "\n",
    "x_offset = border_size  \n",
    "for idx, img in enumerate(images):\n",
    "    collage.paste(img, (x_offset, 0))\n",
    "    \n",
    "    if idx < len(images) - 1:\n",
    "        draw.rectangle([(x_offset + img.width, 0), (x_offset + img.width + border_size, collage_height)], fill=(0, 0, 0))\n",
    "    \n",
    "    x_offset += img.width + border_size\n",
    "\n",
    "collage.show()"
   ]
  },
  {
   "cell_type": "code",
   "execution_count": null,
   "id": "02cc2d97-e2c1-43d2-bb7e-25e37d35c01c",
   "metadata": {},
   "outputs": [],
   "source": [
    "# Vertical stack\n",
    "from PIL import Image, ImageDraw\n",
    "\n",
    "image_files = ['2B.png', '2D.png']\n",
    "\n",
    "images = [Image.open(file) for file in image_files]\n",
    "\n",
    "widths, heights = zip(*(img.size for img in images))\n",
    "\n",
    "border_size = 5  \n",
    "collage_width = max(widths)\n",
    "collage_height = sum(heights)\n",
    "\n",
    "collage = Image.new('RGB', (collage_width, collage_height), (255, 255, 255))\n",
    "\n",
    "y_offset = 0  \n",
    "for idx, img in enumerate(images):\n",
    "    collage.paste(img, (0, y_offset))\n",
    "    \n",
    "    y_offset += img.height\n",
    "\n",
    "collage.show()"
   ]
  }
 ],
 "metadata": {
  "kernelspec": {
   "display_name": "Python 3 (ipykernel)",
   "language": "python",
   "name": "python3"
  },
  "language_info": {
   "codemirror_mode": {
    "name": "ipython",
    "version": 3
   },
   "file_extension": ".py",
   "mimetype": "text/x-python",
   "name": "python",
   "nbconvert_exporter": "python",
   "pygments_lexer": "ipython3",
   "version": "3.8.10"
  }
 },
 "nbformat": 4,
 "nbformat_minor": 5
}
