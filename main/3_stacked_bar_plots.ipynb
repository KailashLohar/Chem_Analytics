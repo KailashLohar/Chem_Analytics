{
 "cells": [
  {
   "cell_type": "code",
   "execution_count": null,
   "id": "6b2f90a5-577c-40de-84ae-be08ee294a94",
   "metadata": {},
   "outputs": [],
   "source": [
    "import os\n",
    "import glob\n",
    "import numpy as np\n",
    "import pandas as pd\n",
    "import matplotlib.pyplot as plt"
   ]
  },
  {
   "cell_type": "code",
   "execution_count": null,
   "id": "6f64dd97-43ab-4314-854a-6bbec74a77d4",
   "metadata": {},
   "outputs": [],
   "source": [
    "directory = \"data\"\n",
    "file_names = [\"L1.csv\", \"L2.csv\", \"L3.csv\", \"L4.csv\", \"L5.csv\", \"L6.csv\"]"
   ]
  },
  {
   "cell_type": "code",
   "execution_count": null,
   "id": "6b98010f-3891-48d6-9b7d-40b60b7fdb55",
   "metadata": {},
   "outputs": [],
   "source": [
    "material = {\n",
    "    \"red\":         {0: \"#ffebee\",1: \"#ffcdd2\",2: \"#ef9a9a\",3: \"#e57373\",4: \"#ef5350\",5: \"#f44336\",6: \"#e53935\",7: \"#d32f2f\",8: \"#c62828\",9: \"#b71c1c\",},\n",
    "    \"amber\":       {0: \"#fff8e1\",1: \"#ffecb3\",2: \"#ffe082\",3: \"#ffd54f\",4: \"#ffca28\",5: \"#ffc107\",6: \"#ffb300\",7: \"#ffa000\",8: \"#ff8f00\",9: \"#ff6f00\",},\n",
    "    \"lime\":        {0: \"#f9fbe7\",1: \"#f0f4c3\",2: \"#e6ee9c\",3: \"#dce775\",4: \"#d4e157\",5: \"#cddc39\",6: \"#c0ca33\",7: \"#afb42b\",8: \"#9e9d24\",9: \"#827717\",},\n",
    "    \"cyan\":        {0: \"#e0f7fa\",1: \"#b2ebf2\",2: \"#80deea\",3: \"#4dd0e1\",4: \"#26c6da\",5: \"#00bcd4\",6: \"#00acc1\",7: \"#0097a7\",8: \"#00838f\",9: \"#006064\",},\n",
    "    \"blu gry\":     {0: \"#eceff1\",1: \"#cfd8dc\",2: \"#b0bec5\",3: \"#90a4ae\",4: \"#78909c\",5: \"#607d8b\",6: \"#546e7a\",7: \"#455a64\",8: \"#37474f\",9: \"#263238\",},\n",
    "}"
   ]
  },
  {
   "cell_type": "code",
   "execution_count": null,
   "id": "63c04b26-8b95-447c-86df-ff9cd2dd7093",
   "metadata": {},
   "outputs": [],
   "source": [
    "data_list = []\n",
    "for file_name in file_names:\n",
    "    file_path = os.path.join(directory, file_name)\n",
    "    data = pd.read_csv(file_path)\n",
    "    data_list.append(data)\n",
    "\n",
    "data = pd.concat(data_list, ignore_index=True)\n",
    "data['TAG'] = ['L{}'.format(i + 1) for i in range(len(file_names)) for _ in range(len(data_list[i]))]\n",
    "\n",
    "conditions = [\n",
    "    (data['Affinity'] < -11),\n",
    "    ((data['Affinity'] >= -11) & (data['Affinity'] < -10)),\n",
    "    ((data['Affinity'] >= -10) & (data['Affinity'] < -9)),\n",
    "    ((data['Affinity'] >= -9) & (data['Affinity'] < -8)),\n",
    "    ((data['Affinity'] >= -8) & (data['Affinity'] < -7))]\n",
    "\n",
    "choices = [\n",
    "    'less than -11',\n",
    "    '-11 to -10',\n",
    "    '-10 to -9',\n",
    "    '-9 to -8',\n",
    "    '-8 to -7']\n",
    "\n",
    "data['affinity'] = np.select(conditions, choices, default='other')\n",
    "display(data.head())\n",
    "print(data.shape)\n",
    "data = data.drop(columns=['Name','SMILES','Affinity'])"
   ]
  },
  {
   "cell_type": "code",
   "execution_count": null,
   "id": "234b41bf-4b17-433b-aeec-fb2c1780ff7d",
   "metadata": {},
   "outputs": [],
   "source": [
    "cross_tab = pd.crosstab(index=data['TAG'],columns=data['affinity'])\n",
    "desired_order = ['less than -11', '-11 to -10', '-10 to -9', '-9 to -8', '-8 to -7']\n",
    "cross_tab = cross_tab[desired_order]\n",
    "cross_tab"
   ]
  },
  {
   "cell_type": "code",
   "execution_count": null,
   "id": "41796950-dbe1-4dd8-b513-968c75130ab9",
   "metadata": {},
   "outputs": [],
   "source": [
    "unique_affinities = cross_tab.columns\n",
    "colors = [material[color][6] for color in material] + [material[color][i] for color in material for i in range(1, len(unique_affinities))]\n",
    "\n",
    "ax = cross_tab.plot(kind='bar', stacked=True, figsize=(10, 6), color=colors, width=0.4)\n",
    "ax.set_xticklabels(ax.get_xticklabels(), rotation=0, fontweight='bold')\n",
    "ax.spines['top'].set_visible(False)\n",
    "ax.spines['right'].set_visible(False)\n",
    "ax.tick_params(left=True, bottom=False)\n",
    "\n",
    "plt.xlabel('Categories')\n",
    "plt.ylabel('Count')\n",
    "plt.title('Binding Affinity at 6 different conformers')\n",
    "plt.legend(title='affinity(kcal/mol)', bbox_to_anchor=(1.05, 1), loc='upper left')\n",
    "plt.tight_layout()\n",
    "plt.savefig(\"figures/stacked_histogram.png\")\n",
    "plt.show()"
   ]
  }
 ],
 "metadata": {
  "kernelspec": {
   "display_name": "Python 3 (ipykernel)",
   "language": "python",
   "name": "python3"
  },
  "language_info": {
   "codemirror_mode": {
    "name": "ipython",
    "version": 3
   },
   "file_extension": ".py",
   "mimetype": "text/x-python",
   "name": "python",
   "nbconvert_exporter": "python",
   "pygments_lexer": "ipython3",
   "version": "3.8.10"
  }
 },
 "nbformat": 4,
 "nbformat_minor": 5
}
