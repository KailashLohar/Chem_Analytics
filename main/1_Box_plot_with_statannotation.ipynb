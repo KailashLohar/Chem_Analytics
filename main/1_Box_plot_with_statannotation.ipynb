{
 "cells": [
  {
   "cell_type": "code",
   "execution_count": 1,
   "id": "99edf19c",
   "metadata": {},
   "outputs": [],
   "source": [
    "import pandas as pd\n",
    "import matplotlib.pyplot as plt\n",
    "from ipywidgets import widgets, interactive, Output\n",
    "from IPython.display import display, clear_output\n",
    "import seaborn as sns\n",
    "from statannotations.Annotator import Annotator\n",
    "\n",
    "import pandas as pd\n",
    "import numpy as np\n",
    "import seaborn as sns\n",
    "import matplotlib.pyplot as plt\n",
    "\n",
    "from typing import List\n",
    "from rdkit import Chem, DataStructs\n",
    "from rdkit.Chem import AllChem\n",
    "from rdkit.Chem.rdchem import Mol\n",
    "from rdkit.Chem.MolStandardize.rdMolStandardize import LargestFragmentChooser\n",
    "from rdkit import RDLogger\n",
    "lg = RDLogger.logger()\n",
    "lg.setLevel(RDLogger.CRITICAL)"
   ]
  },
  {
   "cell_type": "code",
   "execution_count": 2,
   "id": "c2e48fc3-b246-4598-9bb2-bb8bb66379d8",
   "metadata": {},
   "outputs": [],
   "source": [
    "material = {\n",
    "    \"red\":         {0: \"#ffebee\",1: \"#ffcdd2\",2: \"#ef9a9a\",3: \"#e57373\",4: \"#ef5350\",5: \"#f44336\",6: \"#e53935\",7: \"#d32f2f\",8: \"#c62828\",9: \"#b71c1c\",},\n",
    "    \"pink\":        {0: \"#fce4ec\",1: \"#f8bbd0\",2: \"#f48fb1\",3: \"#f06292\",4: \"#ec407a\",5: \"#e91e63\",6: \"#d81b60\",7: \"#c2185b\",8: \"#ad1457\",9: \"#880e4f\",},\n",
    "    \"purple\":      {0: \"#f3e5f5\",1: \"#e1bee7\",2: \"#ce93d8\",3: \"#ba68c8\",4: \"#ab47bc\",5: \"#9c27b0\",6: \"#8e24aa\",7: \"#7b1fa2\",8: \"#6a1b9a\",9: \"#4a148c\",},\n",
    "    \"dep purp\":    {0: \"#ede7f6\",1: \"#d1c4e9\",2: \"#b39ddb\",3: \"#9575cd\",4: \"#7e57c2\",5: \"#673ab7\",6: \"#5e35b1\",7: \"#512da8\",8: \"#4527a0\",9: \"#311b92\",},\n",
    "    \"indigo\":      {0: \"#e8eaf6\",1: \"#c5cae9\",2: \"#9fa8da\",3: \"#7986cb\",4: \"#5c6bc0\",5: \"#3f51b5\",6: \"#3949ab\",7: \"#303f9f\",8: \"#283593\",9: \"#1a237e\",},\n",
    "    \"blue\":        {0: \"#e3f2fd\",1: \"#bbdefb\",2: \"#90caf9\",3: \"#64b5f6\",4: \"#42a5f5\",5: \"#2196f3\",6: \"#1e88e5\",7: \"#1976d2\",8: \"#1565c0\",9: \"#0d47a1\",},\n",
    "    \"lit blu\":     {0: \"#e1f5fe\",1: \"#b3e5fc\",2: \"#81d4fa\",3: \"#4fc3f7\",4: \"#29b6f6\",5: \"#03a9f4\",6: \"#039be5\",7: \"#0288d1\",8: \"#0277bd\",9: \"#01579b\",},\n",
    "    \"cyan\":        {0: \"#e0f7fa\",1: \"#b2ebf2\",2: \"#80deea\",3: \"#4dd0e1\",4: \"#26c6da\",5: \"#00bcd4\",6: \"#00acc1\",7: \"#0097a7\",8: \"#00838f\",9: \"#006064\",},\n",
    "    \"teal\":        {0: \"#e0f2f1\",1: \"#b2dfdb\",2: \"#80cbc4\",3: \"#4db6ac\",4: \"#26a69a\",5: \"#009688\",6: \"#00897b\",7: \"#00796b\",8: \"#00695c\",9: \"#004d40\",},\n",
    "    \"green\":       {0: \"#e8f5e9\",1: \"#c8e6c9\",2: \"#a5d6a7\",3: \"#81c784\",4: \"#66bb6a\",5: \"#4caf50\",6: \"#43a047\",7: \"#388e3c\",8: \"#2e7d32\",9: \"#1b5e20\",},\n",
    "    \"lit grn\":     {0: \"#f1f8e9\",1: \"#dcedc8\",2: \"#c5e1a5\",3: \"#aed581\",4: \"#9ccc65\",5: \"#8bc34a\",6: \"#7cb342\",7: \"#689f38\",8: \"#558b2f\",9: \"#33691e\",},\n",
    "    \"lime\":        {0: \"#f9fbe7\",1: \"#f0f4c3\",2: \"#e6ee9c\",3: \"#dce775\",4: \"#d4e157\",5: \"#cddc39\",6: \"#c0ca33\",7: \"#afb42b\",8: \"#9e9d24\",9: \"#827717\",},\n",
    "    \"yellow\":      {0: \"#fffde7\",1: \"#fff9c4\",2: \"#fff59d\",3: \"#fff176\",4: \"#ffee58\",5: \"#ffeb3b\",6: \"#fdd835\",7: \"#fbc02d\",8: \"#f9a825\",9: \"#f57f17\",},\n",
    "    \"amber\":       {0: \"#fff8e1\",1: \"#ffecb3\",2: \"#ffe082\",3: \"#ffd54f\",4: \"#ffca28\",5: \"#ffc107\",6: \"#ffb300\",7: \"#ffa000\",8: \"#ff8f00\",9: \"#ff6f00\",},\n",
    "    \"orange\":      {0: \"#fff3e0\",1: \"#ffe0b2\",2: \"#ffcc80\",3: \"#ffb74d\",4: \"#ffa726\",5: \"#ff9800\",6: \"#fb8c00\",7: \"#f57c00\",8: \"#ef6c00\",9: \"#e65100\",},\n",
    "    \"dep ora\":     {0: \"#fbe9e7\",1: \"#ffccbc\",2: \"#ffab91\",3: \"#ff8a65\",4: \"#ff7043\",5: \"#ff5722\",6: \"#f4511e\",7: \"#e64a19\",8: \"#d84315\",9: \"#bf360c\",},\n",
    "    \"brown\":       {0: \"#efebe9\",1: \"#d7ccc8\",2: \"#bcaaa4\",3: \"#a1887f\",4: \"#8d6e63\",5: \"#795548\",6: \"#6d4c41\",7: \"#5d4037\",8: \"#4e342e\",9: \"#3e2723\",},\n",
    "    \"grey\":        {0: \"#fafafa\",1: \"#f5f5f5\",2: \"#eeeeee\",3: \"#e0e0e0\",4: \"#bdbdbd\",5: \"#9e9e9e\",6: \"#757575\",7: \"#616161\",8: \"#424242\",9: \"#212121\",},\n",
    "    \"blu gry\":     {0: \"#eceff1\",1: \"#cfd8dc\",2: \"#b0bec5\",3: \"#90a4ae\",4: \"#78909c\",5: \"#607d8b\",6: \"#546e7a\",7: \"#455a64\",8: \"#37474f\",9: \"#263238\",},\n",
    "    }"
   ]
  },
  {
   "cell_type": "code",
   "execution_count": 35,
   "id": "3c5342d2-82c3-40cc-9f32-3fc08ba5d1e0",
   "metadata": {},
   "outputs": [
    {
     "data": {
      "text/html": [
       "<div>\n",
       "<style scoped>\n",
       "    .dataframe tbody tr th:only-of-type {\n",
       "        vertical-align: middle;\n",
       "    }\n",
       "\n",
       "    .dataframe tbody tr th {\n",
       "        vertical-align: top;\n",
       "    }\n",
       "\n",
       "    .dataframe thead th {\n",
       "        text-align: right;\n",
       "    }\n",
       "</style>\n",
       "<table border=\"1\" class=\"dataframe\">\n",
       "  <thead>\n",
       "    <tr style=\"text-align: right;\">\n",
       "      <th></th>\n",
       "      <th>TAG</th>\n",
       "      <th>SMILES</th>\n",
       "      <th>atp_SMILES</th>\n",
       "    </tr>\n",
       "  </thead>\n",
       "  <tbody>\n",
       "    <tr>\n",
       "      <th>0</th>\n",
       "      <td>CHEMBL(929)</td>\n",
       "      <td>CC(C)c1cc(CNc2nc(Nc3cc(C4CC4)[nH]n3)cc(N3CCN(C...</td>\n",
       "      <td>C1=NC(=C2C(=N1)N(C=N2)[C@H]3[C@@H]([C@@H]([C@H...</td>\n",
       "    </tr>\n",
       "    <tr>\n",
       "      <th>1</th>\n",
       "      <td>CHEMBL(929)</td>\n",
       "      <td>COc1cc2nccc(Oc3ccc(NC(=O)NC4CC4)c(Cl)c3)c2cc1C...</td>\n",
       "      <td>C1=NC(=C2C(=N1)N(C=N2)[C@H]3[C@@H]([C@@H]([C@H...</td>\n",
       "    </tr>\n",
       "    <tr>\n",
       "      <th>2</th>\n",
       "      <td>CHEMBL(929)</td>\n",
       "      <td>CCn1c(-c2nonc2N)nc2c(C#CC(C)(C)O)ncc(OC[C@H]3C...</td>\n",
       "      <td>C1=NC(=C2C(=N1)N(C=N2)[C@H]3[C@@H]([C@@H]([C@H...</td>\n",
       "    </tr>\n",
       "    <tr>\n",
       "      <th>3</th>\n",
       "      <td>CHEMBL(929)</td>\n",
       "      <td>C[C@]12O[C@H](C[C@]1(O)CO)n1c3ccccc3c3c4c(c5c6...</td>\n",
       "      <td>C1=NC(=C2C(=N1)N(C=N2)[C@H]3[C@@H]([C@@H]([C@H...</td>\n",
       "    </tr>\n",
       "    <tr>\n",
       "      <th>4</th>\n",
       "      <td>CHEMBL(929)</td>\n",
       "      <td>COc1cc(N2CCC(N3CCN(C)CC3)CC2)ccc1Nc1ncnc(Nc2cc...</td>\n",
       "      <td>C1=NC(=C2C(=N1)N(C=N2)[C@H]3[C@@H]([C@@H]([C@H...</td>\n",
       "    </tr>\n",
       "  </tbody>\n",
       "</table>\n",
       "</div>"
      ],
      "text/plain": [
       "           TAG                                             SMILES  \\\n",
       "0  CHEMBL(929)  CC(C)c1cc(CNc2nc(Nc3cc(C4CC4)[nH]n3)cc(N3CCN(C...   \n",
       "1  CHEMBL(929)  COc1cc2nccc(Oc3ccc(NC(=O)NC4CC4)c(Cl)c3)c2cc1C...   \n",
       "2  CHEMBL(929)  CCn1c(-c2nonc2N)nc2c(C#CC(C)(C)O)ncc(OC[C@H]3C...   \n",
       "3  CHEMBL(929)  C[C@]12O[C@H](C[C@]1(O)CO)n1c3ccccc3c3c4c(c5c6...   \n",
       "4  CHEMBL(929)  COc1cc(N2CCC(N3CCN(C)CC3)CC2)ccc1Nc1ncnc(Nc2cc...   \n",
       "\n",
       "                                          atp_SMILES  \n",
       "0  C1=NC(=C2C(=N1)N(C=N2)[C@H]3[C@@H]([C@@H]([C@H...  \n",
       "1  C1=NC(=C2C(=N1)N(C=N2)[C@H]3[C@@H]([C@@H]([C@H...  \n",
       "2  C1=NC(=C2C(=N1)N(C=N2)[C@H]3[C@@H]([C@@H]([C@H...  \n",
       "3  C1=NC(=C2C(=N1)N(C=N2)[C@H]3[C@@H]([C@@H]([C@H...  \n",
       "4  C1=NC(=C2C(=N1)N(C=N2)[C@H]3[C@@H]([C@@H]([C@H...  "
      ]
     },
     "metadata": {},
     "output_type": "display_data"
    },
    {
     "name": "stdout",
     "output_type": "stream",
     "text": [
      "(53657, 3)\n"
     ]
    }
   ],
   "source": [
    "df = pd.read_csv('data/smiles_box_plot.csv')\n",
    "\n",
    "display(df.head())\n",
    "print(df.shape)"
   ]
  },
  {
   "cell_type": "code",
   "execution_count": 36,
   "id": "3998bb94-4e2a-4261-b10b-5cc6340db516",
   "metadata": {},
   "outputs": [
    {
     "data": {
      "text/html": [
       "<div>\n",
       "<style scoped>\n",
       "    .dataframe tbody tr th:only-of-type {\n",
       "        vertical-align: middle;\n",
       "    }\n",
       "\n",
       "    .dataframe tbody tr th {\n",
       "        vertical-align: top;\n",
       "    }\n",
       "\n",
       "    .dataframe thead th {\n",
       "        text-align: right;\n",
       "    }\n",
       "</style>\n",
       "<table border=\"1\" class=\"dataframe\">\n",
       "  <thead>\n",
       "    <tr style=\"text-align: right;\">\n",
       "      <th></th>\n",
       "      <th>TAG</th>\n",
       "      <th>similarity_score</th>\n",
       "    </tr>\n",
       "  </thead>\n",
       "  <tbody>\n",
       "    <tr>\n",
       "      <th>0</th>\n",
       "      <td>CHEMBL(929)</td>\n",
       "      <td>0.158940</td>\n",
       "    </tr>\n",
       "    <tr>\n",
       "      <th>1</th>\n",
       "      <td>CHEMBL(929)</td>\n",
       "      <td>0.167832</td>\n",
       "    </tr>\n",
       "    <tr>\n",
       "      <th>2</th>\n",
       "      <td>CHEMBL(929)</td>\n",
       "      <td>0.230216</td>\n",
       "    </tr>\n",
       "    <tr>\n",
       "      <th>3</th>\n",
       "      <td>CHEMBL(929)</td>\n",
       "      <td>0.178808</td>\n",
       "    </tr>\n",
       "    <tr>\n",
       "      <th>4</th>\n",
       "      <td>CHEMBL(929)</td>\n",
       "      <td>0.169591</td>\n",
       "    </tr>\n",
       "  </tbody>\n",
       "</table>\n",
       "</div>"
      ],
      "text/plain": [
       "           TAG  similarity_score\n",
       "0  CHEMBL(929)          0.158940\n",
       "1  CHEMBL(929)          0.167832\n",
       "2  CHEMBL(929)          0.230216\n",
       "3  CHEMBL(929)          0.178808\n",
       "4  CHEMBL(929)          0.169591"
      ]
     },
     "metadata": {},
     "output_type": "display_data"
    },
    {
     "name": "stdout",
     "output_type": "stream",
     "text": [
      "(53657, 2)\n"
     ]
    }
   ],
   "source": [
    "def process_df(df):\n",
    "    df4 = pd.DataFrame({'TAG': df['TAG']})\n",
    "    df4['similarity_score'] = 0.0  \n",
    "\n",
    "    def calculate_similarity(row):\n",
    "        m1 = Chem.MolFromSmiles(row['SMILES'])\n",
    "        m2 = Chem.MolFromSmiles(row['atp_SMILES'])\n",
    "        \n",
    "        if m1 is not None and m2 is not None:\n",
    "            invgen = AllChem.GetMorganFeatureAtomInvGen()\n",
    "            ffpgen = AllChem.GetMorganGenerator(radius=2, atomInvariantsGenerator=invgen)\n",
    "            \n",
    "            ffp1 = ffpgen.GetSparseCountFingerprint(m1)\n",
    "            ffp2 = ffpgen.GetSparseCountFingerprint(m2)\n",
    "            \n",
    "            similarity_score = DataStructs.TanimotoSimilarity(ffp1, ffp2)\n",
    "            return similarity_score\n",
    "        else:\n",
    "            return None\n",
    "\n",
    "    df4['similarity_score'] = df.apply(calculate_similarity, axis=1)\n",
    "    return df4\n",
    "\n",
    "df1 = process_df(df)\n",
    "\n",
    "display(df1.head())\n",
    "print(df1.shape)"
   ]
  },
  {
   "cell_type": "code",
   "execution_count": 83,
   "id": "fcde9b29-0ffc-4659-85d2-f2c0e1546d6e",
   "metadata": {},
   "outputs": [
    {
     "name": "stdout",
     "output_type": "stream",
     "text": [
      "p-value annotation legend:\n",
      "      ns: 5.00e-02 < p <= 1.00e+00\n",
      "       *: 1.00e-02 < p <= 5.00e-02\n",
      "      **: 1.00e-03 < p <= 1.00e-02\n",
      "     ***: 1.00e-04 < p <= 1.00e-03\n",
      "    ****: p <= 1.00e-04\n",
      "\n",
      "CHEMBL(929) vs. HINGE(24000): Mann-Whitney-Wilcoxon test two-sided, P_val:2.624e-01 U_stat=1.139e+07\n",
      "HINGE(24000) vs. ANTI_BACTERIAL(28728): Mann-Whitney-Wilcoxon test two-sided, P_val:0.000e+00 U_stat=2.375e+08\n",
      "CHEMBL(929) vs. ANTI_BACTERIAL(28728): Mann-Whitney-Wilcoxon test two-sided, P_val:7.589e-52 U_stat=9.453e+06\n"
     ]
    },
    {
     "data": {
      "image/png": "[encoded data removed]",
      "text/plain": [
       "<Figure size 600x800 with 1 Axes>"
      ]
     },
     "metadata": {},
     "output_type": "display_data"
    }
   ],
   "source": [
    "x = \"TAG\"\n",
    "y = \"similarity_score\"\n",
    "order = ['CHEMBL(929)', 'HINGE(24000)', 'ANTI_BACTERIAL(28728)']\n",
    "\n",
    "batch_colors_light = {'CHEMBL(929)': material['purple'][9], 'HINGE(24000)': material['amber'][6], 'ANTI_BACTERIAL(28728)': material['teal'][6],}\n",
    "\n",
    "fig, ax = plt.subplots(figsize=(6, 8))\n",
    "ax = sns.boxplot(data=df1, x=x, y=y, order=order, palette=batch_colors_light.values(), width=0.5)\n",
    "ax.set_xticklabels(ax.get_xticklabels(), fontsize=8) \n",
    "ax.set_xlabel('Box Plots of 3 Datasets', fontsize=12, fontweight='bold', color='blue')\n",
    "\n",
    "pairs=[(\"CHEMBL(929)\", \"HINGE(24000)\"), (\"HINGE(24000)\", \"ANTI_BACTERIAL(28728)\"), (\"ANTI_BACTERIAL(28728)\", \"CHEMBL(929)\")]\n",
    "annotator = Annotator(ax, pairs, data=df1, x=x, y=y, order=order)\n",
    "annotator.configure(test='Mann-Whitney', text_format='star', loc='inside')\n",
    "annotator.apply_and_annotate()\n",
    "\n",
    "plt.savefig('box_plot.png')"
   ]
  },
  {
   "cell_type": "code",
   "execution_count": null,
   "id": "a15af7f3-993a-41e1-83b5-440e1728b289",
   "metadata": {},
   "outputs": [],
   "source": []
  }
 ],
 "metadata": {
  "kernelspec": {
   "display_name": "Python 3 (ipykernel)",
   "language": "python",
   "name": "python3"
  },
  "language_info": {
   "codemirror_mode": {
    "name": "ipython",
    "version": 3
   },
   "file_extension": ".py",
   "mimetype": "text/x-python",
   "name": "python",
   "nbconvert_exporter": "python",
   "pygments_lexer": "ipython3",
   "version": "3.8.10"
  },
  "tags": [
   "hide"
  ]
 },
 "nbformat": 4,
 "nbformat_minor": 5
}
